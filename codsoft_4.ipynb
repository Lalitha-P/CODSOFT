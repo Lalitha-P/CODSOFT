{
  "nbformat": 4,
  "nbformat_minor": 0,
  "metadata": {
    "colab": {
      "provenance": [],
      "authorship_tag": "ABX9TyNgcTkq22aLeISzRukZl6ji",
      "include_colab_link": true
    },
    "kernelspec": {
      "name": "python3",
      "display_name": "Python 3"
    },
    "language_info": {
      "name": "python"
    }
  },
  "cells": [
    {
      "cell_type": "markdown",
      "metadata": {
        "id": "view-in-github",
        "colab_type": "text"
      },
      "source": [
        "<a href=\"https://colab.research.google.com/github/Lalitha-P/CODSOFT/blob/main/codsoft_4.ipynb\" target=\"_parent\"><img src=\"https://colab.research.google.com/assets/colab-badge.svg\" alt=\"Open In Colab\"/></a>"
      ]
    },
    {
      "cell_type": "code",
      "execution_count": null,
      "metadata": {
        "colab": {
          "base_uri": "https://localhost:8080/"
        },
        "id": "hpAV4S41zsuQ",
        "outputId": "a3aaf861-b235-4abb-cf80-bf2f9f6ed779"
      },
      "outputs": [
        {
          "output_type": "stream",
          "name": "stdout",
          "text": [
            "Enter a choice (rock, paper, scissors): paper\n",
            "Player: paper\n",
            "Computer: paper\n",
            "It's a tie!\n"
          ]
        }
      ],
      "source": [
        "import random\n",
        "options = (\"rock\", \"paper\", \"scissors\")\n",
        "running = True\n",
        "while running:\n",
        "    player = None\n",
        "    computer = random.choice(options)\n",
        "    while player not in options:\n",
        "        player = input(\"Enter a choice (rock, paper, scissors): \")\n",
        "    print(f\"Player: {player}\")\n",
        "    print(f\"Computer: {computer}\")\n",
        "    if player == computer:\n",
        "        print(\"It's a tie!\")\n",
        "    elif player == \"rock\" and computer ==\"scissors\":\n",
        "        print(\"You Win!\")\n",
        "    elif player == \"scissors\" and computer ==\"paper\":\n",
        "        print(\"You Win!\")\n",
        "    elif player ==  \"paper\" and computer ==\"rock\":\n",
        "        print(\"You Win!\")\n",
        "    else:\n",
        "        print(\"You Lose!\")\n",
        "    play_again = input(\"Play Again? (y/n): \").lower()\n",
        "    if not play_again == \"y\":\n",
        "        running = False\n",
        "print(\"Thanks For Playing!\")\n",
        ""
      ]
    }
  ]
}